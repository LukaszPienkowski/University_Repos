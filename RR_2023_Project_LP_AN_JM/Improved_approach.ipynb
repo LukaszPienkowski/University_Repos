{
 "cells": [
  {
   "attachments": {},
   "cell_type": "markdown",
   "metadata": {},
   "source": [
    "# Table of contents\n",
    "1. [Introduction](#1)  \n",
    "    1.1 [Setting up the environment](#2)  \n",
    "    1.2 [Loading data](#3)    \n",
    "\n",
    "2. [Feature Engineering](#4)  \n",
    "    2.1 [PassengerId](#5)  \n",
    "    2.2 [What's in a name?](#6)    \n",
    "    2.3 [Do families sink or swim together?](#7)  \n",
    "    2.4 [Dummyfication](#8)   \n",
    "        \n",
    "3. [Prediction](#14)  \n",
    "    3.1 [Creating train, validation and test sets](#15)  \n",
    "    3.2 [Cross-validation](#16)  \n",
    "    3.3 [Building the model](#17)  \n",
    "    3.4 [Prediction and test accuracy](#18)  "
   ]
  },
  {
   "attachments": {},
   "cell_type": "markdown",
   "metadata": {},
   "source": [
    "# 1 Introduction <a name = '1'></a>\n",
    "\n",
    "There are three parts to our script as follows:\n",
    "\n",
    "* Feature engineering\n",
    "* Missing value imputation\n",
    "* Prediction!\n",
    "\n",
    "## 1.1 Setting up the environment <a name = '2'></a>"
   ]
  },
  {
   "cell_type": "code",
   "execution_count": 1,
   "metadata": {},
   "outputs": [],
   "source": [
    "# Import packages\n",
    "\n",
    "import matplotlib.pyplot as plt\n",
    "import missingno as msno\n",
    "import numpy as np\n",
    "import pandas as pd\n",
    "import seaborn as sns\n",
    "from CustomDataFrame import CustomDataFrame\n",
    "from sklearn.ensemble import RandomForestClassifier\n",
    "from sklearn.impute import SimpleImputer\n",
    "from sklearn.metrics import accuracy_score\n",
    "from sklearn.model_selection import cross_val_score\n",
    "from statsmodels.graphics.mosaicplot import mosaic\n",
    "from tabulate import tabulate"
   ]
  },
  {
   "cell_type": "code",
   "execution_count": 2,
   "metadata": {},
   "outputs": [],
   "source": [
    "# Set figsize for plots\n",
    "plt.rcParams['figure.figsize'] = (8, 5)\n",
    "\n",
    "# Set random state\n",
    "random_state = 754"
   ]
  },
  {
   "attachments": {},
   "cell_type": "markdown",
   "metadata": {},
   "source": [
    "## 1.2 Loading data <a name = '3'></a>\n",
    "\n",
    "Now that our packages are loaded, let’s read in and take a peek at the data."
   ]
  },
  {
   "cell_type": "code",
   "execution_count": 3,
   "metadata": {},
   "outputs": [],
   "source": [
    "# Read data\n",
    "train = pd.read_csv('input/train.csv')\n",
    "test = pd.read_csv('input/test.csv')\n",
    "\n",
    "# Concatenate training & test data\n",
    "full = pd.concat([train, test], ignore_index=True)"
   ]
  },
  {
   "attachments": {},
   "cell_type": "markdown",
   "metadata": {},
   "source": [
    "Authors here use df.info() method to print out the most important info about the data. That approach however does not make it easy to see clearly which columns have missing values that have to be taken care of.   \n",
    "For this purpose, a class `CustomDataFrame` is created, that lists Null Count, instead of Non-Null:"
   ]
  },
  {
   "cell_type": "code",
   "execution_count": 4,
   "metadata": {},
   "outputs": [
    {
     "name": "stdout",
     "output_type": "stream",
     "text": [
      "Rows: 1309, Columns: 12\n",
      "\n",
      "+---------------+-------------+--------------+\n",
      "| Column Name   | Data Type   | Null Count   |\n",
      "|---------------+-------------+--------------|\n",
      "| PassengerId   | int64       | 0 (0.0%)     |\n",
      "| Survived      | float64     | 418 (31.9%)  |\n",
      "| Pclass        | int64       | 0 (0.0%)     |\n",
      "| Name          | object      | 0 (0.0%)     |\n",
      "| Sex           | object      | 0 (0.0%)     |\n",
      "| Age           | float64     | 263 (20.1%)  |\n",
      "| SibSp         | int64       | 0 (0.0%)     |\n",
      "| Parch         | int64       | 0 (0.0%)     |\n",
      "| Ticket        | object      | 0 (0.0%)     |\n",
      "| Fare          | float64     | 1 (0.1%)     |\n",
      "| Cabin         | object      | 1014 (77.5%) |\n",
      "| Embarked      | object      | 2 (0.2%)     |\n",
      "+---------------+-------------+--------------+\n"
     ]
    }
   ],
   "source": [
    "# Custom DataFrame info\n",
    "print(CustomDataFrame(full))"
   ]
  },
  {
   "attachments": {},
   "cell_type": "markdown",
   "metadata": {},
   "source": [
    "As we can see, columns containing missing values are:  \n",
    "* Survived (**y** variable)\n",
    "* Age\n",
    "* Fare\n",
    "* Cabin\n",
    "* Embarked\n",
    "\n",
    "The column **Cabin** contains 77.5% missing values, so there is no smart way to impute 3/4 of missing values, column has to be dropped altogether.     \n",
    "However, the **Survived** variable contains missing values as well. They cannot be imputed as well, because doing so will lead to some bias in the data, making them more noisy or causing some sort of target leakage, depending on the chosen imputation method.    \n",
    "Other variables can be imputed because of the low frequency of Nulls, but first of all, all missing **Survived** observations has to be removed before any other feature engineering."
   ]
  },
  {
   "cell_type": "code",
   "execution_count": 5,
   "metadata": {},
   "outputs": [
    {
     "name": "stdout",
     "output_type": "stream",
     "text": [
      "Rows: 891, Columns: 12\n",
      "\n",
      "+---------------+-------------+--------------+\n",
      "| Column Name   | Data Type   | Null Count   |\n",
      "|---------------+-------------+--------------|\n",
      "| PassengerId   | int64       | 0 (0.0%)     |\n",
      "| Survived      | float64     | 0 (0.0%)     |\n",
      "| Pclass        | int64       | 0 (0.0%)     |\n",
      "| Name          | object      | 0 (0.0%)     |\n",
      "| Sex           | object      | 0 (0.0%)     |\n",
      "| Age           | float64     | 177 (19.9%)  |\n",
      "| SibSp         | int64       | 0 (0.0%)     |\n",
      "| Parch         | int64       | 0 (0.0%)     |\n",
      "| Ticket        | object      | 0 (0.0%)     |\n",
      "| Fare          | float64     | 0 (0.0%)     |\n",
      "| Cabin         | object      | 687 (77.1%)  |\n",
      "| Embarked      | object      | 2 (0.2%)     |\n",
      "+---------------+-------------+--------------+\n"
     ]
    }
   ],
   "source": [
    "full = full.loc[~full['Survived'].isna()]\n",
    "\n",
    "print(CustomDataFrame(full))"
   ]
  },
  {
   "attachments": {},
   "cell_type": "markdown",
   "metadata": {},
   "source": [
    "Now we have only 891 observations, but missing values are now in columns:\n",
    "* Age\n",
    "* Cabin\n",
    "* Embarked\n",
    "\n",
    "The one missing value from **Fare** has been dropped by removing null **Survived**.  \n",
    "Contrary to the original Notebook, that created a **Deck** variable out of **Cabin**, here the **Cabin** is dropped.  \n",
    "**Age** and **Embarked** columns will have their values imputed by their medians (**Age**) or most frequent value (**Embarked**).  \n",
    "  \n",
    "The key difference is the imputation method. Authors use a predictive imputation method, which sounds like a good idea, but maybe not in this dataset. Author's approach is really messy, feature engineering process leaves many legacy columns in the data, increasing the computation complexity.  \n",
    "Another point is that author tried to impute a column with more than 3/4 values missing, while the best idea would be to drop it.  \n",
    "Finally, author uses predictive imputation with Random Forest Regression without stating the random state, making the process not possible to reproduce fully. Our approach, on the other hand, does not contain any randomness, so it's easily reproducible."
   ]
  },
  {
   "cell_type": "code",
   "execution_count": 6,
   "metadata": {},
   "outputs": [
    {
     "name": "stdout",
     "output_type": "stream",
     "text": [
      "Rows: 891, Columns: 11\n",
      "\n",
      "+---------------+-------------+--------------+\n",
      "| Column Name   | Data Type   | Null Count   |\n",
      "|---------------+-------------+--------------|\n",
      "| PassengerId   | int64       | 0 (0.0%)     |\n",
      "| Survived      | float64     | 0 (0.0%)     |\n",
      "| Pclass        | int64       | 0 (0.0%)     |\n",
      "| Name          | object      | 0 (0.0%)     |\n",
      "| Sex           | object      | 0 (0.0%)     |\n",
      "| Age           | object      | 0 (0.0%)     |\n",
      "| SibSp         | int64       | 0 (0.0%)     |\n",
      "| Parch         | int64       | 0 (0.0%)     |\n",
      "| Ticket        | object      | 0 (0.0%)     |\n",
      "| Fare          | float64     | 0 (0.0%)     |\n",
      "| Embarked      | object      | 0 (0.0%)     |\n",
      "+---------------+-------------+--------------+\n"
     ]
    }
   ],
   "source": [
    "# Drop the Cabin columns\n",
    "full.drop('Cabin', axis = 1, inplace = True)\n",
    "\n",
    "# Define the variables to impute\n",
    "variables_to_impute = ['Age', 'Embarked']\n",
    "\n",
    "# Perform SimpleImputation on defined variables\n",
    "imputer = SimpleImputer(strategy='most_frequent')\n",
    "imputed_values = imputer.fit_transform(full[variables_to_impute])\n",
    "\n",
    "# Crate a DataFrame with new values\n",
    "imputed_df = pd.DataFrame(imputed_values, columns = variables_to_impute)\n",
    "\n",
    "# Impute the missing values\n",
    "full.loc[:, variables_to_impute] = full.loc[:, variables_to_impute].fillna(imputed_df)\n",
    "\n",
    "# Print new DataFrame info\n",
    "print(CustomDataFrame(full))"
   ]
  },
  {
   "attachments": {},
   "cell_type": "markdown",
   "metadata": {},
   "source": [
    "# 2 Feature Engineering <a name = '4'></a>\n",
    "\n",
    "## 2.1 PassengerId <a name = '5'></a>\n",
    "\n",
    "That column does not carry any prediction power, it is simply the row index + 1. It is dropped entirely."
   ]
  },
  {
   "cell_type": "code",
   "execution_count": 7,
   "metadata": {},
   "outputs": [],
   "source": [
    "full.drop('PassengerId', axis = 1, inplace = True)"
   ]
  },
  {
   "attachments": {},
   "cell_type": "markdown",
   "metadata": {},
   "source": [
    "## 2.2 What’s in a name? <a name = '6'></a>"
   ]
  },
  {
   "cell_type": "code",
   "execution_count": 8,
   "metadata": {},
   "outputs": [
    {
     "data": {
      "text/html": [
       "<div>\n",
       "<style scoped>\n",
       "    .dataframe tbody tr th:only-of-type {\n",
       "        vertical-align: middle;\n",
       "    }\n",
       "\n",
       "    .dataframe tbody tr th {\n",
       "        vertical-align: top;\n",
       "    }\n",
       "\n",
       "    .dataframe thead th {\n",
       "        text-align: right;\n",
       "    }\n",
       "</style>\n",
       "<table border=\"1\" class=\"dataframe\">\n",
       "  <thead>\n",
       "    <tr style=\"text-align: right;\">\n",
       "      <th>Title</th>\n",
       "      <th>Capt</th>\n",
       "      <th>Col</th>\n",
       "      <th>Don</th>\n",
       "      <th>Dr</th>\n",
       "      <th>Jonkheer</th>\n",
       "      <th>Lady</th>\n",
       "      <th>Major</th>\n",
       "      <th>Master</th>\n",
       "      <th>Miss</th>\n",
       "      <th>Mlle</th>\n",
       "      <th>Mme</th>\n",
       "      <th>Mr</th>\n",
       "      <th>Mrs</th>\n",
       "      <th>Ms</th>\n",
       "      <th>Rev</th>\n",
       "      <th>Sir</th>\n",
       "      <th>the Countess</th>\n",
       "    </tr>\n",
       "    <tr>\n",
       "      <th>Sex</th>\n",
       "      <th></th>\n",
       "      <th></th>\n",
       "      <th></th>\n",
       "      <th></th>\n",
       "      <th></th>\n",
       "      <th></th>\n",
       "      <th></th>\n",
       "      <th></th>\n",
       "      <th></th>\n",
       "      <th></th>\n",
       "      <th></th>\n",
       "      <th></th>\n",
       "      <th></th>\n",
       "      <th></th>\n",
       "      <th></th>\n",
       "      <th></th>\n",
       "      <th></th>\n",
       "    </tr>\n",
       "  </thead>\n",
       "  <tbody>\n",
       "    <tr>\n",
       "      <th>female</th>\n",
       "      <td>0</td>\n",
       "      <td>0</td>\n",
       "      <td>0</td>\n",
       "      <td>1</td>\n",
       "      <td>0</td>\n",
       "      <td>1</td>\n",
       "      <td>0</td>\n",
       "      <td>0</td>\n",
       "      <td>182</td>\n",
       "      <td>2</td>\n",
       "      <td>1</td>\n",
       "      <td>0</td>\n",
       "      <td>125</td>\n",
       "      <td>1</td>\n",
       "      <td>0</td>\n",
       "      <td>0</td>\n",
       "      <td>1</td>\n",
       "    </tr>\n",
       "    <tr>\n",
       "      <th>male</th>\n",
       "      <td>1</td>\n",
       "      <td>2</td>\n",
       "      <td>1</td>\n",
       "      <td>6</td>\n",
       "      <td>1</td>\n",
       "      <td>0</td>\n",
       "      <td>2</td>\n",
       "      <td>40</td>\n",
       "      <td>0</td>\n",
       "      <td>0</td>\n",
       "      <td>0</td>\n",
       "      <td>517</td>\n",
       "      <td>0</td>\n",
       "      <td>0</td>\n",
       "      <td>6</td>\n",
       "      <td>1</td>\n",
       "      <td>0</td>\n",
       "    </tr>\n",
       "  </tbody>\n",
       "</table>\n",
       "</div>"
      ],
      "text/plain": [
       "Title   Capt  Col  Don  Dr  Jonkheer  Lady  Major  Master  Miss  Mlle  Mme  \\\n",
       "Sex                                                                          \n",
       "female     0    0    0   1         0     1      0       0   182     2    1   \n",
       "male       1    2    1   6         1     0      2      40     0     0    0   \n",
       "\n",
       "Title    Mr  Mrs  Ms  Rev  Sir  the Countess  \n",
       "Sex                                           \n",
       "female    0  125   1    0    0             1  \n",
       "male    517    0   0    6    1             0  "
      ]
     },
     "execution_count": 8,
     "metadata": {},
     "output_type": "execute_result"
    }
   ],
   "source": [
    "# Grab title from passenger names\n",
    "name_split = full['Name'].apply(lambda x: x.split(','))\n",
    "title_split = name_split.apply(lambda x: x[1].split('.')[0].strip())\n",
    "full['Title'] = title_split\n",
    "\n",
    "# Drop legacy column\n",
    "full.drop('Name', axis = 1, inplace = True)\n",
    "\n",
    "# Show title counts by sex\n",
    "pd.crosstab(full['Sex'], full['Title'])"
   ]
  },
  {
   "cell_type": "code",
   "execution_count": 9,
   "metadata": {},
   "outputs": [
    {
     "data": {
      "text/html": [
       "<div>\n",
       "<style scoped>\n",
       "    .dataframe tbody tr th:only-of-type {\n",
       "        vertical-align: middle;\n",
       "    }\n",
       "\n",
       "    .dataframe tbody tr th {\n",
       "        vertical-align: top;\n",
       "    }\n",
       "\n",
       "    .dataframe thead th {\n",
       "        text-align: right;\n",
       "    }\n",
       "</style>\n",
       "<table border=\"1\" class=\"dataframe\">\n",
       "  <thead>\n",
       "    <tr style=\"text-align: right;\">\n",
       "      <th>Title</th>\n",
       "      <th>Master</th>\n",
       "      <th>Miss</th>\n",
       "      <th>Mr</th>\n",
       "      <th>Mrs</th>\n",
       "      <th>Rare Title</th>\n",
       "    </tr>\n",
       "    <tr>\n",
       "      <th>Sex</th>\n",
       "      <th></th>\n",
       "      <th></th>\n",
       "      <th></th>\n",
       "      <th></th>\n",
       "      <th></th>\n",
       "    </tr>\n",
       "  </thead>\n",
       "  <tbody>\n",
       "    <tr>\n",
       "      <th>female</th>\n",
       "      <td>0</td>\n",
       "      <td>185</td>\n",
       "      <td>0</td>\n",
       "      <td>126</td>\n",
       "      <td>3</td>\n",
       "    </tr>\n",
       "    <tr>\n",
       "      <th>male</th>\n",
       "      <td>40</td>\n",
       "      <td>0</td>\n",
       "      <td>517</td>\n",
       "      <td>0</td>\n",
       "      <td>20</td>\n",
       "    </tr>\n",
       "  </tbody>\n",
       "</table>\n",
       "</div>"
      ],
      "text/plain": [
       "Title   Master  Miss   Mr  Mrs  Rare Title\n",
       "Sex                                       \n",
       "female       0   185    0  126           3\n",
       "male        40     0  517    0          20"
      ]
     },
     "execution_count": 9,
     "metadata": {},
     "output_type": "execute_result"
    }
   ],
   "source": [
    "# Titles with very low cell counts to be combined to \"rare\" level\n",
    "rare_title = ['Dona', 'Lady', 'the Countess', 'Capt', 'Col', 'Don',\n",
    "              'Dr', 'Major', 'Rev', 'Sir', 'Jonkheer']\n",
    "\n",
    "# Also reassign mlle, ms, and mme accordingly\n",
    "full.loc[full['Title'] == 'Mlle', 'Title'] = 'Miss'\n",
    "full.loc[full['Title'] == 'Ms', 'Title'] = 'Miss'\n",
    "full.loc[full['Title'] == 'Mme', 'Title'] = 'Mrs'\n",
    "full.loc[full['Title'].isin(rare_title), 'Title'] = 'Rare Title'\n",
    "\n",
    "# Show title counts by sex again\n",
    "pd.crosstab(full['Sex'], full['Title'])"
   ]
  },
  {
   "attachments": {},
   "cell_type": "markdown",
   "metadata": {},
   "source": [
    "## 2.3 Do families sink or swim together? <a name = '7'></a>\n",
    "\n",
    "Now that we've taken care of splitting passenger name into some new variables, we can take it a step further and make some new family variables. First we're going to make a **family size** variable based on number of siblings/spouse(s) (maybe someone has more than one spouse?) and number of children/parents. \n"
   ]
  },
  {
   "cell_type": "code",
   "execution_count": 10,
   "metadata": {},
   "outputs": [
    {
     "data": {
      "image/png": "[encoded data removed]",
      "text/plain": [
       "<Figure size 800x500 with 1 Axes>"
      ]
     },
     "metadata": {},
     "output_type": "display_data"
    }
   ],
   "source": [
    "# Create a family size variable including the passenger themselves\n",
    "full['Fsize'] = full['SibSp'] + full['Parch'] + 1\n",
    "\n",
    "# Filter the data for visualization\n",
    "filtered_data = full.loc[:890]  # Adjust the range if needed\n",
    "\n",
    "# Use seaborn to visualize the relationship between family size and survival\n",
    "sns.countplot(x='Fsize', hue='Survived', data=filtered_data, palette='viridis')\n",
    "\n",
    "# Set plot labels and layout\n",
    "plt.xlabel('Family Size')\n",
    "plt.tight_layout()\n",
    "\n",
    "# Display the plot\n",
    "plt.show()"
   ]
  },
  {
   "attachments": {},
   "cell_type": "markdown",
   "metadata": {},
   "source": [
    "Ah hah. We can see that there's a survival penalty to singletons and those with family sizes above 4. We can collapse this variable into three levels which will be helpful since there are comparatively fewer large families. Let's create a **discretized family size** variable.\n"
   ]
  },
  {
   "cell_type": "code",
   "execution_count": 11,
   "metadata": {},
   "outputs": [
    {
     "data": {
      "image/png": "[encoded data removed]",
      "text/plain": [
       "<Figure size 800x500 with 3 Axes>"
      ]
     },
     "metadata": {},
     "output_type": "display_data"
    }
   ],
   "source": [
    "# Discretize family size into categories\n",
    "full.loc[full['Fsize'] == 1, 'FsizeD'] = 'singleton'\n",
    "full.loc[(full['Fsize'] < 5) & (full['Fsize'] > 1), 'FsizeD'] = 'small'\n",
    "full.loc[full['Fsize'] > 4, 'FsizeD'] = 'large'\n",
    "\n",
    "# Filter the data for visualization\n",
    "filtered_data = full.loc[:890]  # Adjust the range if needed\n",
    "\n",
    "# Create a mosaic plot to show the relationship between family size and survival\n",
    "mosaic(filtered_data, ['FsizeD', 'Survived'], title='Family Size by Survival')\n",
    "\n",
    "# Display the plot\n",
    "plt.show()"
   ]
  },
  {
   "attachments": {},
   "cell_type": "markdown",
   "metadata": {},
   "source": [
    "## 2.4 Dummyfication <a name = '8'></a>\n",
    "\n",
    "Here Author creates some visualizations and dummy variables, but for some reason some binary variables (**Mother**, **Child**, **Sex**) have string values instead of integers. Our process is simplified.\n",
    "\n",
    "### 2.4.1 Child"
   ]
  },
  {
   "cell_type": "code",
   "execution_count": 12,
   "metadata": {},
   "outputs": [
    {
     "data": {
      "image/png": "[encoded data removed]",
      "text/plain": [
       "<Figure size 672.111x300 with 2 Axes>"
      ]
     },
     "metadata": {},
     "output_type": "display_data"
    }
   ],
   "source": [
    "# Plot the relationship between age and survival\n",
    "# Create a FacetGrid\n",
    "grid = sns.FacetGrid(full[:891], col='Sex', hue='Survived', palette='viridis')\n",
    "\n",
    "# Add a histogram to the grid\n",
    "_ = grid.map_dataframe(sns.histplot, x='Age', multiple=\"stack\", binwidth=5)\n",
    "\n",
    "# Add a legend to the grid\n",
    "_ = grid.add_legend()"
   ]
  },
  {
   "cell_type": "code",
   "execution_count": 13,
   "metadata": {},
   "outputs": [
    {
     "data": {
      "text/html": [
       "<div>\n",
       "<style scoped>\n",
       "    .dataframe tbody tr th:only-of-type {\n",
       "        vertical-align: middle;\n",
       "    }\n",
       "\n",
       "    .dataframe tbody tr th {\n",
       "        vertical-align: top;\n",
       "    }\n",
       "\n",
       "    .dataframe thead th {\n",
       "        text-align: right;\n",
       "    }\n",
       "</style>\n",
       "<table border=\"1\" class=\"dataframe\">\n",
       "  <thead>\n",
       "    <tr style=\"text-align: right;\">\n",
       "      <th>Survived</th>\n",
       "      <th>0.0</th>\n",
       "      <th>1.0</th>\n",
       "    </tr>\n",
       "    <tr>\n",
       "      <th>Child</th>\n",
       "      <th></th>\n",
       "      <th></th>\n",
       "    </tr>\n",
       "  </thead>\n",
       "  <tbody>\n",
       "    <tr>\n",
       "      <th>0.0</th>\n",
       "      <td>497</td>\n",
       "      <td>281</td>\n",
       "    </tr>\n",
       "    <tr>\n",
       "      <th>1.0</th>\n",
       "      <td>52</td>\n",
       "      <td>61</td>\n",
       "    </tr>\n",
       "  </tbody>\n",
       "</table>\n",
       "</div>"
      ],
      "text/plain": [
       "Survived  0.0  1.0\n",
       "Child             \n",
       "0.0       497  281\n",
       "1.0        52   61"
      ]
     },
     "execution_count": 13,
     "metadata": {},
     "output_type": "execute_result"
    }
   ],
   "source": [
    "# Create the column child, and indicate whether child or adult\n",
    "full.loc[full['Age'] < 18, 'Child'] = 1\n",
    "full.loc[full['Age'] >= 18, 'Child'] = 0\n",
    "\n",
    "# Show counts\n",
    "pd.crosstab(full['Child'], full['Survived'])"
   ]
  },
  {
   "attachments": {},
   "cell_type": "markdown",
   "metadata": {},
   "source": [
    "### 2.4.2 Mother "
   ]
  },
  {
   "cell_type": "code",
   "execution_count": 14,
   "metadata": {},
   "outputs": [
    {
     "data": {
      "text/html": [
       "<div>\n",
       "<style scoped>\n",
       "    .dataframe tbody tr th:only-of-type {\n",
       "        vertical-align: middle;\n",
       "    }\n",
       "\n",
       "    .dataframe tbody tr th {\n",
       "        vertical-align: top;\n",
       "    }\n",
       "\n",
       "    .dataframe thead th {\n",
       "        text-align: right;\n",
       "    }\n",
       "</style>\n",
       "<table border=\"1\" class=\"dataframe\">\n",
       "  <thead>\n",
       "    <tr style=\"text-align: right;\">\n",
       "      <th>Survived</th>\n",
       "      <th>0.0</th>\n",
       "      <th>1.0</th>\n",
       "    </tr>\n",
       "    <tr>\n",
       "      <th>Mother</th>\n",
       "      <th></th>\n",
       "      <th></th>\n",
       "    </tr>\n",
       "  </thead>\n",
       "  <tbody>\n",
       "    <tr>\n",
       "      <th>0.0</th>\n",
       "      <td>533</td>\n",
       "      <td>303</td>\n",
       "    </tr>\n",
       "    <tr>\n",
       "      <th>1.0</th>\n",
       "      <td>16</td>\n",
       "      <td>39</td>\n",
       "    </tr>\n",
       "  </tbody>\n",
       "</table>\n",
       "</div>"
      ],
      "text/plain": [
       "Survived  0.0  1.0\n",
       "Mother            \n",
       "0.0       533  303\n",
       "1.0        16   39"
      ]
     },
     "execution_count": 14,
     "metadata": {},
     "output_type": "execute_result"
    }
   ],
   "source": [
    "# Add a 'Mother' variable based on specific conditions\n",
    "full.loc[\n",
    "    (full['Sex'] == 'female') &\n",
    "    (full['Parch'] > 0) &\n",
    "    (full['Age'] > 18) &\n",
    "    (full['Title'] != 'Miss'),\n",
    "    'Mother'] = 1\n",
    "\n",
    "# Fill missing values in 'Mother' variable\n",
    "full['Mother'].fillna(0, inplace=True)\n",
    "\n",
    "# Show the counts of survival by the 'Mother' variable\n",
    "pd.crosstab(full['Mother'], full['Survived'])"
   ]
  },
  {
   "attachments": {},
   "cell_type": "markdown",
   "metadata": {},
   "source": [
    "### 2.4.3 Sex \n",
    "\n",
    "One binary variable `Male` is creted out of it."
   ]
  },
  {
   "cell_type": "code",
   "execution_count": 15,
   "metadata": {},
   "outputs": [],
   "source": [
    "# Create a dummy variable == 1 if 'male', 0 otherwise\n",
    "\n",
    "full['Male'] = (full['Sex'] == 'male').astype(int)"
   ]
  },
  {
   "attachments": {},
   "cell_type": "markdown",
   "metadata": {},
   "source": [
    "### 2.4.4 Removing unneccesary variables \n",
    "\n",
    "To keep code clear, the unncessesary columns are dropped right now."
   ]
  },
  {
   "cell_type": "code",
   "execution_count": 16,
   "metadata": {},
   "outputs": [],
   "source": [
    "# Define variables to be dropped\n",
    "variables_to_drop = ['Sex', 'SibSp', 'Parch', 'Ticket', 'Fsize']\n",
    "\n",
    "# Drop variables from the DataFrame\n",
    "full.drop(variables_to_drop, axis = 1, inplace = True)"
   ]
  },
  {
   "attachments": {},
   "cell_type": "markdown",
   "metadata": {},
   "source": [
    "### 2.4.5 Creating dummies \n",
    "\n",
    "Improved process allowed to decrease the number of dummified variables, thus cardinality of the model.  \n",
    "Author's approach lead to creating dummies such as **Sex_Female**, **Sex_Male**, **Child_Child**, **Child_Adult** and so on, which is nonsense.  \n",
    "Process is also done now without a loop."
   ]
  },
  {
   "cell_type": "code",
   "execution_count": 17,
   "metadata": {},
   "outputs": [],
   "source": [
    "# One Hot Encoding\n",
    "\n",
    "# Create a copy of the dataset\n",
    "encoded_data = full.copy()\n",
    "\n",
    "# List of columns to encode (will be useful for modelling according to authors)\n",
    "columns_to_encode = ['Pclass', 'Embarked', 'Title', 'FsizeD']\n",
    "\n",
    "# Create dummy variables out of those columns\n",
    "encoded_data = pd.get_dummies(encoded_data, columns = columns_to_encode, dtype = int)"
   ]
  },
  {
   "attachments": {},
   "cell_type": "markdown",
   "metadata": {},
   "source": [
    "# 3. Prediction <a name = '14'></a>\n",
    "\n",
    "Author uses here `Random Forest` classification algorithm. That is ok, but random state has to be declared to ensure reproducibility.  \n",
    "We also want to implement a robustness check - a cross-validation on the training subset.\n",
    "\n",
    "## 3.1 Creating train, validation and test sets <a name = '15'></a>"
   ]
  },
  {
   "cell_type": "code",
   "execution_count": 18,
   "metadata": {},
   "outputs": [],
   "source": [
    "# Split the data into train and test sets\n",
    "train = encoded_data[:623]\n",
    "test = encoded_data[623:]\n",
    "\n",
    "# Split the train and test sets into X (features) and y (target)\n",
    "X_train = train.drop('Survived', axis=1)\n",
    "y_train = train[\"Survived\"]\n",
    "\n",
    "X_test = test.drop('Survived', axis=1)\n",
    "y_test = test['Survived']"
   ]
  },
  {
   "attachments": {},
   "cell_type": "markdown",
   "metadata": {},
   "source": [
    "## 3.2 Cross-validation <a name = '16'></a>"
   ]
  },
  {
   "cell_type": "code",
   "execution_count": 19,
   "metadata": {},
   "outputs": [
    {
     "name": "stdout",
     "output_type": "stream",
     "text": [
      "5-fold cross-validation accuracy score: 0.807\n"
     ]
    }
   ],
   "source": [
    "# Calculate cross-validation accuracy\n",
    "cv_score = np.mean(\n",
    "    cross_val_score(\n",
    "    estimator = RandomForestClassifier(random_state = random_state),\n",
    "    X = X_train,\n",
    "    y = y_train,\n",
    "    scoring = 'accuracy',\n",
    "    cv = 5\n",
    "    )\n",
    ")\n",
    "\n",
    "print(f\"5-fold cross-validation accuracy score: {cv_score:.3f}\")"
   ]
  },
  {
   "attachments": {},
   "cell_type": "markdown",
   "metadata": {},
   "source": [
    "## 3.3 Building the model <a name = '17'></a>\n",
    "\n",
    "We then build our model on the training set."
   ]
  },
  {
   "cell_type": "code",
   "execution_count": 20,
   "metadata": {},
   "outputs": [
    {
     "data": {
      "text/html": [
       "<style>#sk-container-id-1 {color: black;background-color: white;}#sk-container-id-1 pre{padding: 0;}#sk-container-id-1 div.sk-toggleable {background-color: white;}#sk-container-id-1 label.sk-toggleable__label {cursor: pointer;display: block;width: 100%;margin-bottom: 0;padding: 0.3em;box-sizing: border-box;text-align: center;}#sk-container-id-1 label.sk-toggleable__label-arrow:before {content: \"▸\";float: left;margin-right: 0.25em;color: #696969;}#sk-container-id-1 label.sk-toggleable__label-arrow:hover:before {color: black;}#sk-container-id-1 div.sk-estimator:hover label.sk-toggleable__label-arrow:before {color: black;}#sk-container-id-1 div.sk-toggleable__content {max-height: 0;max-width: 0;overflow: hidden;text-align: left;background-color: #f0f8ff;}#sk-container-id-1 div.sk-toggleable__content pre {margin: 0.2em;color: black;border-radius: 0.25em;background-color: #f0f8ff;}#sk-container-id-1 input.sk-toggleable__control:checked~div.sk-toggleable__content {max-height: 200px;max-width: 100%;overflow: auto;}#sk-container-id-1 input.sk-toggleable__control:checked~label.sk-toggleable__label-arrow:before {content: \"▾\";}#sk-container-id-1 div.sk-estimator input.sk-toggleable__control:checked~label.sk-toggleable__label {background-color: #d4ebff;}#sk-container-id-1 div.sk-label input.sk-toggleable__control:checked~label.sk-toggleable__label {background-color: #d4ebff;}#sk-container-id-1 input.sk-hidden--visually {border: 0;clip: rect(1px 1px 1px 1px);clip: rect(1px, 1px, 1px, 1px);height: 1px;margin: -1px;overflow: hidden;padding: 0;position: absolute;width: 1px;}#sk-container-id-1 div.sk-estimator {font-family: monospace;background-color: #f0f8ff;border: 1px dotted black;border-radius: 0.25em;box-sizing: border-box;margin-bottom: 0.5em;}#sk-container-id-1 div.sk-estimator:hover {background-color: #d4ebff;}#sk-container-id-1 div.sk-parallel-item::after {content: \"\";width: 100%;border-bottom: 1px solid gray;flex-grow: 1;}#sk-container-id-1 div.sk-label:hover label.sk-toggleable__label {background-color: #d4ebff;}#sk-container-id-1 div.sk-serial::before {content: \"\";position: absolute;border-left: 1px solid gray;box-sizing: border-box;top: 0;bottom: 0;left: 50%;z-index: 0;}#sk-container-id-1 div.sk-serial {display: flex;flex-direction: column;align-items: center;background-color: white;padding-right: 0.2em;padding-left: 0.2em;position: relative;}#sk-container-id-1 div.sk-item {position: relative;z-index: 1;}#sk-container-id-1 div.sk-parallel {display: flex;align-items: stretch;justify-content: center;background-color: white;position: relative;}#sk-container-id-1 div.sk-item::before, #sk-container-id-1 div.sk-parallel-item::before {content: \"\";position: absolute;border-left: 1px solid gray;box-sizing: border-box;top: 0;bottom: 0;left: 50%;z-index: -1;}#sk-container-id-1 div.sk-parallel-item {display: flex;flex-direction: column;z-index: 1;position: relative;background-color: white;}#sk-container-id-1 div.sk-parallel-item:first-child::after {align-self: flex-end;width: 50%;}#sk-container-id-1 div.sk-parallel-item:last-child::after {align-self: flex-start;width: 50%;}#sk-container-id-1 div.sk-parallel-item:only-child::after {width: 0;}#sk-container-id-1 div.sk-dashed-wrapped {border: 1px dashed gray;margin: 0 0.4em 0.5em 0.4em;box-sizing: border-box;padding-bottom: 0.4em;background-color: white;}#sk-container-id-1 div.sk-label label {font-family: monospace;font-weight: bold;display: inline-block;line-height: 1.2em;}#sk-container-id-1 div.sk-label-container {text-align: center;}#sk-container-id-1 div.sk-container {/* jupyter's `normalize.less` sets `[hidden] { display: none; }` but bootstrap.min.css set `[hidden] { display: none !important; }` so we also need the `!important` here to be able to override the default hidden behavior on the sphinx rendered scikit-learn.org. See: https://github.com/scikit-learn/scikit-learn/issues/21755 */display: inline-block !important;position: relative;}#sk-container-id-1 div.sk-text-repr-fallback {display: none;}</style><div id=\"sk-container-id-1\" class=\"sk-top-container\"><div class=\"sk-text-repr-fallback\"><pre>RandomForestClassifier(random_state=754)</pre><b>In a Jupyter environment, please rerun this cell to show the HTML representation or trust the notebook. <br />On GitHub, the HTML representation is unable to render, please try loading this page with nbviewer.org.</b></div><div class=\"sk-container\" hidden><div class=\"sk-item\"><div class=\"sk-estimator sk-toggleable\"><input class=\"sk-toggleable__control sk-hidden--visually\" id=\"sk-estimator-id-1\" type=\"checkbox\" checked><label for=\"sk-estimator-id-1\" class=\"sk-toggleable__label sk-toggleable__label-arrow\">RandomForestClassifier</label><div class=\"sk-toggleable__content\"><pre>RandomForestClassifier(random_state=754)</pre></div></div></div></div></div>"
      ],
      "text/plain": [
       "RandomForestClassifier(random_state=754)"
      ]
     },
     "execution_count": 20,
     "metadata": {},
     "output_type": "execute_result"
    }
   ],
   "source": [
    "# Build the model\n",
    "rf_model = RandomForestClassifier(n_estimators=100, random_state=random_state)\n",
    "rf_model.fit(X_train, y_train)"
   ]
  },
  {
   "attachments": {},
   "cell_type": "markdown",
   "metadata": {},
   "source": [
    "## 3.3 Variable importance <a name = '18'></a>"
   ]
  },
  {
   "attachments": {},
   "cell_type": "markdown",
   "metadata": {},
   "source": [
    "Results are similar with small differences because of the different variable structure."
   ]
  },
  {
   "cell_type": "code",
   "execution_count": 21,
   "metadata": {},
   "outputs": [
    {
     "data": {
      "image/png": "[encoded data removed]",
      "text/plain": [
       "<Figure size 800x500 with 1 Axes>"
      ]
     },
     "metadata": {},
     "output_type": "display_data"
    }
   ],
   "source": [
    "# Sort features by their importances\n",
    "importances = rf_model.feature_importances_\n",
    "feature_names = X_train.columns\n",
    "indices = np.argsort(importances)[::-1]\n",
    "sorted_features = [feature_names[i] for i in indices]\n",
    "\n",
    "# Create a horizontal bar plot of feature importances\n",
    "sns.barplot(x=importances[indices], y=sorted_features)\n",
    "plt.xlabel('Importance')\n",
    "plt.ylabel('Feature')\n",
    "plt.title('Feature Importances')\n",
    "plt.show()"
   ]
  },
  {
   "attachments": {},
   "cell_type": "markdown",
   "metadata": {},
   "source": [
    "## 3.4 Prediction and test accuracy <a name = '19'></a>\n",
    "\n",
    "The last two steps are performed - generating predictions on testing subset and also calculating the accuracy metric. Originally, the author did not calculate any metrics, making comparison impossible."
   ]
  },
  {
   "cell_type": "code",
   "execution_count": 22,
   "metadata": {},
   "outputs": [
    {
     "name": "stdout",
     "output_type": "stream",
     "text": [
      "Accuracy score on testing set: 0.799\n"
     ]
    }
   ],
   "source": [
    "# Predict using the test set\n",
    "predictions = rf_model.predict(X_test)\n",
    "\n",
    "# Print the test set accuracy metric\n",
    "print(f\"Accuracy score on testing set: {accuracy_score(predictions, y_test):.3f}\")\n",
    "\n",
    "# Save the solution to a dataframe with two columns: PassengerId and Survived (prediction)\n",
    "solution = pd.DataFrame({\"PassengerID\": [x + 1 for x in X_test.index], \"Survived\": predictions})\n",
    "\n",
    "# Write the solution to file\n",
    "solution.to_csv('output/rf_mod_solution.csv', index=False)"
   ]
  },
  {
   "attachments": {},
   "cell_type": "markdown",
   "metadata": {},
   "source": [
    "Calculated score is similar to the one obtained through the cross-validation process, so our model does not overfit."
   ]
  }
 ],
 "metadata": {
  "kernelspec": {
   "display_name": "RR",
   "language": "python",
   "name": "python3"
  },
  "language_info": {
   "codemirror_mode": {
    "name": "ipython",
    "version": 3
   },
   "file_extension": ".py",
   "mimetype": "text/x-python",
   "name": "python",
   "nbconvert_exporter": "python",
   "pygments_lexer": "ipython3",
   "version": "3.9.6"
  },
  "orig_nbformat": 4
 },
 "nbformat": 4,
 "nbformat_minor": 2
}
